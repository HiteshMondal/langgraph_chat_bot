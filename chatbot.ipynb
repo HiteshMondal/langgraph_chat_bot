{
 "cells": [
  {
   "cell_type": "code",
   "execution_count": null,
   "id": "577b9668",
   "metadata": {},
   "outputs": [],
   "source": [
    "from dotenv import load_dotenv\n",
    "\n",
    "load_dotenv()\n",
    "\n",
    "from typing_extensions import TypedDict\n",
    "from langchain.chat_models import init_chat_model\n",
    "from langgraph.graph import StateGraph, START, END\n",
    "from langgraph.graph.message import add_messages"
   ]
  },
  {
   "cell_type": "code",
   "execution_count": null,
   "id": "bf17f968",
   "metadata": {},
   "outputs": [
    {
     "data": {
      "text/plain": [
       "AIMessage(content=\"India is a country in South Asia. Here's a more comprehensive definition:\\n\\n**Geographically:**\\n\\n*   **Location:** Located primarily on the Indian subcontinent, bordering Pakistan to the west; China, Nepal, and Bhutan to the north; Bangladesh and Myanmar to the east; and Sri Lanka to the south.\\n*   **Landmass:** The seventh-largest country in the world by land area.\\n*   **Coastline:** Possesses a long coastline on the Indian Ocean, with the Arabian Sea to the west and the Bay of Bengal to the east.\\n*   **Terrain:** Features diverse topography, including the Himalayas in the north, fertile plains, arid deserts, and coastal regions.\\n*   **Islands:** Includes several island territories, such as the Andaman and Nicobar Islands and Lakshadweep.\\n\\n**Demographically:**\\n\\n*   **Population:** The most populous country in the world, with over 1.4 billion people.\\n*   **Diversity:** A highly diverse population, with a multitude of ethnic groups, religions, languages, and cultures.\\n\\n**Politically:**\\n\\n*   **Type of Government:** A parliamentary republic with a multi-party system.\\n*   **Constitution:** Governed by a written constitution that declares it a sovereign, socialist, secular, democratic republic.\\n*   **Administrative Divisions:** Divided into states and union territories, each with its own government.\\n*   **International Organizations:** A member of numerous international organizations, including the United Nations, the World Trade Organization, the G20, and the BRICS group.\\n\\n**Culturally:**\\n\\n*   **Religions:** Home to a variety of religions, including Hinduism (the majority religion), Islam, Christianity, Sikhism, Buddhism, and Jainism.\\n*   **Languages:** Has a large number of languages, with Hindi and English as official languages.\\n*   **Art and Literature:** Rich in art, literature, music, dance, and cinema.\\n*   **Cuisine:** Known for its diverse and flavorful cuisine, varying from region to region.\\n*   **Traditions:** Possesses ancient traditions and customs that are still practiced today.\\n\\n**Economically:**\\n\\n*   **Economy:** One of the world's largest and fastest-growing economies.\\n*   **Sectors:** Has a diverse economy with strengths in agriculture, manufacturing, and services.\\n*   **Global Influence:** An increasingly important player in the global economy and international trade.\\n\\n**In Summary:**\\n\\nIndia is a vast, diverse, and complex nation with a rich history, a vibrant culture, and a significant role in the world. It is a land of contrasts, with ancient traditions coexisting with modern technology, and immense wealth alongside widespread poverty. It is a country that is constantly evolving and shaping its future.\", additional_kwargs={}, response_metadata={'prompt_feedback': {'block_reason': 0, 'safety_ratings': []}, 'finish_reason': 'STOP', 'model_name': 'gemini-2.0-flash', 'safety_ratings': []}, id='run--298c4d59-6d12-4563-85ac-744243f3fd2f-0', usage_metadata={'input_tokens': 3, 'output_tokens': 577, 'total_tokens': 580, 'input_token_details': {'cache_read': 0}})"
      ]
     },
     "execution_count": 8,
     "metadata": {},
     "output_type": "execute_result"
    }
   ],
   "source": [
    "llm = init_chat_model(\"google_genai:gemini-2.0-flash\")\n",
    "\n"
   ]
  }
 ],
 "metadata": {
  "kernelspec": {
   "display_name": "langgraph-chat-bot",
   "language": "python",
   "name": "python3"
  },
  "language_info": {
   "codemirror_mode": {
    "name": "ipython",
    "version": 3
   },
   "file_extension": ".py",
   "mimetype": "text/x-python",
   "name": "python",
   "nbconvert_exporter": "python",
   "pygments_lexer": "ipython3",
   "version": "3.12.11"
  }
 },
 "nbformat": 4,
 "nbformat_minor": 5
}
