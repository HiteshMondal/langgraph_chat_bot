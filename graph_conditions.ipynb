{
 "cells": [
  {
   "cell_type": "code",
   "execution_count": 4,
   "id": "03b5d5cd",
   "metadata": {},
   "outputs": [],
   "source": [
    "from typing import Literal, TypedDict\n",
    "class PortfolioState(TypedDict):\n",
    "    amount_usd: float\n",
    "    total_usd: float\n",
    "    target_currency: Literal[\"INR\", \"EUR\"]\n",
    "    total: float"
   ]
  },
  {
   "cell_type": "code",
   "execution_count": 5,
   "id": "ca63ca39",
   "metadata": {},
   "outputs": [],
   "source": [
    "def calc_total(state: PortfolioState) -> PortfolioState:\n",
    "    state[\"total_usd\"] = state[\"total_usd\"] * 1.05  # Assuming a 5% increase\n",
    "    return state\n",
    "\n",
    "def convert_to_inr(state: PortfolioState) -> PortfolioState:\n",
    "    state[\"total\"] = state[\"total_usd\"] * 85  # Assuming 1 USD = 85 INR\n",
    "    return state\n",
    "def convert_to_eur(state: PortfolioState) -> PortfolioState:\n",
    "    state[\"total\"] = state[\"total_usd\"] * 0.85  # Assuming 1 USD = 0.85 EUR\n",
    "    return state"
   ]
  },
  {
   "cell_type": "code",
   "execution_count": 6,
   "id": "68b553b5",
   "metadata": {},
   "outputs": [
    {
     "data": {
      "text/plain": [
       "<langgraph.graph.state.StateGraph at 0x78556cd31b50>"
      ]
     },
     "execution_count": 6,
     "metadata": {},
     "output_type": "execute_result"
    }
   ],
   "source": [
    "from langgraph.graph import StateGraph, START, END\n",
    "\n",
    "builder = StateGraph(PortfolioState)\n",
    "builder.add_node(\"calc_total\", calc_total)\n",
    "builder.add_node(\"convert_to_inr\", convert_to_inr)\n",
    "builder.add_node(\"convert_to_eur\", convert_to_eur)"
   ]
  }
 ],
 "metadata": {
  "kernelspec": {
   "display_name": "langgraph-chat-bot",
   "language": "python",
   "name": "python3"
  },
  "language_info": {
   "codemirror_mode": {
    "name": "ipython",
    "version": 3
   },
   "file_extension": ".py",
   "mimetype": "text/x-python",
   "name": "python",
   "nbconvert_exporter": "python",
   "pygments_lexer": "ipython3",
   "version": "3.12.11"
  }
 },
 "nbformat": 4,
 "nbformat_minor": 5
}
